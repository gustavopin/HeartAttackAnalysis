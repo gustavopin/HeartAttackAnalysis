{
 "cells": [
  {
   "cell_type": "code",
   "execution_count": 50,
   "id": "8abf788f-2fa6-43d7-a3a1-aa311c4919db",
   "metadata": {},
   "outputs": [],
   "source": [
    "import pandas as pd\n",
    "import matplotlib.pyplot as plt\n",
    "import statistics\n",
    "from sklearn.linear_model import Ridge"
   ]
  },
  {
   "cell_type": "code",
   "execution_count": 2,
   "id": "893a3cda-5eb4-48f8-bc8f-80e45d7e08d4",
   "metadata": {},
   "outputs": [],
   "source": [
    "# reading both csv files\n",
    "data_gen = pd.read_csv('Data/heart.csv')\n",
    "data_o2 = pd.read_csv('Data/o2Saturation.csv')"
   ]
  },
  {
   "cell_type": "code",
   "execution_count": 8,
   "id": "8477049a-0c1f-4e2b-8e91-2ee8ba2e4c03",
   "metadata": {},
   "outputs": [
    {
     "data": {
      "text/html": [
       "<div>\n",
       "<style scoped>\n",
       "    .dataframe tbody tr th:only-of-type {\n",
       "        vertical-align: middle;\n",
       "    }\n",
       "\n",
       "    .dataframe tbody tr th {\n",
       "        vertical-align: top;\n",
       "    }\n",
       "\n",
       "    .dataframe thead th {\n",
       "        text-align: right;\n",
       "    }\n",
       "</style>\n",
       "<table border=\"1\" class=\"dataframe\">\n",
       "  <thead>\n",
       "    <tr style=\"text-align: right;\">\n",
       "      <th></th>\n",
       "      <th>age</th>\n",
       "      <th>sex</th>\n",
       "      <th>cp</th>\n",
       "      <th>trtbps</th>\n",
       "      <th>chol</th>\n",
       "      <th>fbs</th>\n",
       "      <th>restecg</th>\n",
       "      <th>thalachh</th>\n",
       "      <th>exng</th>\n",
       "      <th>oldpeak</th>\n",
       "      <th>slp</th>\n",
       "      <th>caa</th>\n",
       "      <th>thall</th>\n",
       "      <th>output</th>\n",
       "      <th>id</th>\n",
       "    </tr>\n",
       "  </thead>\n",
       "  <tbody>\n",
       "    <tr>\n",
       "      <th>0</th>\n",
       "      <td>63</td>\n",
       "      <td>1</td>\n",
       "      <td>3</td>\n",
       "      <td>145</td>\n",
       "      <td>233</td>\n",
       "      <td>1</td>\n",
       "      <td>0</td>\n",
       "      <td>150</td>\n",
       "      <td>0</td>\n",
       "      <td>2.3</td>\n",
       "      <td>0</td>\n",
       "      <td>0</td>\n",
       "      <td>1</td>\n",
       "      <td>1</td>\n",
       "      <td>1</td>\n",
       "    </tr>\n",
       "    <tr>\n",
       "      <th>1</th>\n",
       "      <td>37</td>\n",
       "      <td>1</td>\n",
       "      <td>2</td>\n",
       "      <td>130</td>\n",
       "      <td>250</td>\n",
       "      <td>0</td>\n",
       "      <td>1</td>\n",
       "      <td>187</td>\n",
       "      <td>0</td>\n",
       "      <td>3.5</td>\n",
       "      <td>0</td>\n",
       "      <td>0</td>\n",
       "      <td>2</td>\n",
       "      <td>1</td>\n",
       "      <td>2</td>\n",
       "    </tr>\n",
       "    <tr>\n",
       "      <th>2</th>\n",
       "      <td>41</td>\n",
       "      <td>0</td>\n",
       "      <td>1</td>\n",
       "      <td>130</td>\n",
       "      <td>204</td>\n",
       "      <td>0</td>\n",
       "      <td>0</td>\n",
       "      <td>172</td>\n",
       "      <td>0</td>\n",
       "      <td>1.4</td>\n",
       "      <td>2</td>\n",
       "      <td>0</td>\n",
       "      <td>2</td>\n",
       "      <td>1</td>\n",
       "      <td>3</td>\n",
       "    </tr>\n",
       "    <tr>\n",
       "      <th>3</th>\n",
       "      <td>56</td>\n",
       "      <td>1</td>\n",
       "      <td>1</td>\n",
       "      <td>120</td>\n",
       "      <td>236</td>\n",
       "      <td>0</td>\n",
       "      <td>1</td>\n",
       "      <td>178</td>\n",
       "      <td>0</td>\n",
       "      <td>0.8</td>\n",
       "      <td>2</td>\n",
       "      <td>0</td>\n",
       "      <td>2</td>\n",
       "      <td>1</td>\n",
       "      <td>4</td>\n",
       "    </tr>\n",
       "    <tr>\n",
       "      <th>4</th>\n",
       "      <td>57</td>\n",
       "      <td>0</td>\n",
       "      <td>0</td>\n",
       "      <td>120</td>\n",
       "      <td>354</td>\n",
       "      <td>0</td>\n",
       "      <td>1</td>\n",
       "      <td>163</td>\n",
       "      <td>1</td>\n",
       "      <td>0.6</td>\n",
       "      <td>2</td>\n",
       "      <td>0</td>\n",
       "      <td>2</td>\n",
       "      <td>1</td>\n",
       "      <td>5</td>\n",
       "    </tr>\n",
       "  </tbody>\n",
       "</table>\n",
       "</div>"
      ],
      "text/plain": [
       "   age  sex  cp  trtbps  chol  fbs  restecg  thalachh  exng  oldpeak  slp  \\\n",
       "0   63    1   3     145   233    1        0       150     0      2.3    0   \n",
       "1   37    1   2     130   250    0        1       187     0      3.5    0   \n",
       "2   41    0   1     130   204    0        0       172     0      1.4    2   \n",
       "3   56    1   1     120   236    0        1       178     0      0.8    2   \n",
       "4   57    0   0     120   354    0        1       163     1      0.6    2   \n",
       "\n",
       "   caa  thall  output  id  \n",
       "0    0      1       1   1  \n",
       "1    0      2       1   2  \n",
       "2    0      2       1   3  \n",
       "3    0      2       1   4  \n",
       "4    0      2       1   5  "
      ]
     },
     "execution_count": 8,
     "metadata": {},
     "output_type": "execute_result"
    }
   ],
   "source": [
    "# creating a list to give a number for each person\n",
    "# this will be used for identification\n",
    "person = list(range(1, 304))\n",
    "\n",
    "# inserting person id\n",
    "data_gen['id'] = person\n",
    "\n",
    "# Creating a reference table for data_gen\n",
    "data_gen.head(5)"
   ]
  },
  {
   "cell_type": "markdown",
   "id": "d52f0efa-7957-4b92-8069-2ba97bb1d39d",
   "metadata": {},
   "source": [
    "For reference, the acronyms at the table have the following meaning:\n",
    "\n",
    "cp : Types of Chest pain (1 - typical angina, 2 - atypical angina, 3 - non-anginal pain, 4 - asymptomatic)\n",
    "\n",
    "trtbps : resting blood pressure (in mm Hg)\n",
    "\n",
    "chol : cholestoral in mg/dl\n",
    "\n",
    "fbs : fasting blood sugar > 120 mg/dl (1 = true; 0 = false)\n",
    "\n",
    "restecg : resting electrocardiographic results (0 - normal, 1 -  having ST-T wave abnormality (T wave inversions and/or ST elevation or depression of > 0.05 mV), 2 - showing probable or definite left ventricular hypertrophy by Estes' criteria)\n",
    "\n",
    "thalach : maximum heart rate achieved\n",
    "\n",
    "exng: exercise induced angina (1 = yes; 0 = no)"
   ]
  },
  {
   "cell_type": "code",
   "execution_count": 5,
   "id": "74d8726b-d6ba-4872-8503-f98cfff10363",
   "metadata": {},
   "outputs": [
    {
     "data": {
      "text/html": [
       "<div>\n",
       "<style scoped>\n",
       "    .dataframe tbody tr th:only-of-type {\n",
       "        vertical-align: middle;\n",
       "    }\n",
       "\n",
       "    .dataframe tbody tr th {\n",
       "        vertical-align: top;\n",
       "    }\n",
       "\n",
       "    .dataframe thead th {\n",
       "        text-align: right;\n",
       "    }\n",
       "</style>\n",
       "<table border=\"1\" class=\"dataframe\">\n",
       "  <thead>\n",
       "    <tr style=\"text-align: right;\">\n",
       "      <th></th>\n",
       "      <th>98.6</th>\n",
       "    </tr>\n",
       "  </thead>\n",
       "  <tbody>\n",
       "    <tr>\n",
       "      <th>0</th>\n",
       "      <td>98.6</td>\n",
       "    </tr>\n",
       "    <tr>\n",
       "      <th>1</th>\n",
       "      <td>98.6</td>\n",
       "    </tr>\n",
       "    <tr>\n",
       "      <th>2</th>\n",
       "      <td>98.6</td>\n",
       "    </tr>\n",
       "    <tr>\n",
       "      <th>3</th>\n",
       "      <td>98.1</td>\n",
       "    </tr>\n",
       "    <tr>\n",
       "      <th>4</th>\n",
       "      <td>97.5</td>\n",
       "    </tr>\n",
       "  </tbody>\n",
       "</table>\n",
       "</div>"
      ],
      "text/plain": [
       "   98.6\n",
       "0  98.6\n",
       "1  98.6\n",
       "2  98.6\n",
       "3  98.1\n",
       "4  97.5"
      ]
     },
     "execution_count": 5,
     "metadata": {},
     "output_type": "execute_result"
    }
   ],
   "source": [
    "# creating a reference table for data_o2\n",
    "data_o2.head(5)"
   ]
  },
  {
   "cell_type": "code",
   "execution_count": 10,
   "id": "81d9deed-89fc-4966-ac96-8c6813aa351d",
   "metadata": {},
   "outputs": [],
   "source": [
    "# creating central tendency measures for both datasets\n",
    "    # means\n",
    "age_mean = data_gen['age'].mean()\n",
    "chol_mean = data_gen['chol'].mean()\n",
    "thalachh_mean = data_gen['thalachh'].mean()\n",
    "bps_mean = data_gen['trtbps'].mean()\n",
    "oxy_mean = data_o2.mean()\n",
    "\n",
    "    # medians\n",
    "age_medi = data_gen['age'].median()\n",
    "chol_medi = data_gen['chol'].median()\n",
    "thalachh_medi = data_gen['thalachh'].median()\n",
    "bps_medi = data_gen['trtbps'].median()\n",
    "restecg_medi = data_gen['restecg'].median()\n",
    "\n",
    "    # modes\n",
    "age_mode = data_gen['age'].mode()\n",
    "chol_mode = data_gen['chol'].mode()\n",
    "thalachh_mode = data_gen['thalachh'].mode()\n",
    "bps_mode = data_gen['trtbps'].mode()\n",
    "restecg_mode = data_gen['restecg'].mode()\n",
    "fbs_mode = data_gen['fbs'].mode()\n",
    "exng_mode = data_gen['exng'].mode()"
   ]
  },
  {
   "cell_type": "code",
   "execution_count": 14,
   "id": "b050cd51-4e0f-48a8-9510-f4712ea2e6e7",
   "metadata": {},
   "outputs": [],
   "source": [
    "# dataframes for CTM\n",
    "    # means\n",
    "df_means = pd.DataFrame({\n",
    "    'age' : age_mean,\n",
    "    'chol' : chol_mean,\n",
    "    'thalachh' : thalachh_mean,\n",
    "    'trtbps' : bps_mean,\n",
    "    'o2' : oxy_mean\n",
    "}, index = [0])\n",
    "\n",
    "    # medians\n",
    "df_medians = pd.DataFrame({\n",
    "    'age' : age_medi,\n",
    "    'chol' : chol_medi,\n",
    "    'thalachh' : thalachh_medi,\n",
    "    'trtbps' : bps_medi,\n",
    "    'restecg' : restecg_medi\n",
    "}, index = [0])\n",
    "\n",
    "    # modes\n",
    "df_modes = pd.DataFrame({\n",
    "    'age' : age_mode,\n",
    "    'chol' : chol_mode,\n",
    "    'thalachh' : thalachh_mode,\n",
    "    'trtbps' : bps_mode,\n",
    "    'restecg' : restecg_mode,\n",
    "    'fbs' : fbs_mode,\n",
    "    'exng' : exng_mode\n",
    "}, index = [0])"
   ]
  },
  {
   "cell_type": "code",
   "execution_count": 15,
   "id": "acd6a592-3f21-4a7b-b87d-bd322cbf1896",
   "metadata": {},
   "outputs": [
    {
     "data": {
      "text/html": [
       "<div>\n",
       "<style scoped>\n",
       "    .dataframe tbody tr th:only-of-type {\n",
       "        vertical-align: middle;\n",
       "    }\n",
       "\n",
       "    .dataframe tbody tr th {\n",
       "        vertical-align: top;\n",
       "    }\n",
       "\n",
       "    .dataframe thead th {\n",
       "        text-align: right;\n",
       "    }\n",
       "</style>\n",
       "<table border=\"1\" class=\"dataframe\">\n",
       "  <thead>\n",
       "    <tr style=\"text-align: right;\">\n",
       "      <th></th>\n",
       "      <th>age</th>\n",
       "      <th>chol</th>\n",
       "      <th>thalachh</th>\n",
       "      <th>trtbps</th>\n",
       "      <th>restecg</th>\n",
       "      <th>fbs</th>\n",
       "      <th>exng</th>\n",
       "    </tr>\n",
       "  </thead>\n",
       "  <tbody>\n",
       "    <tr>\n",
       "      <th>0</th>\n",
       "      <td>58</td>\n",
       "      <td>197</td>\n",
       "      <td>162</td>\n",
       "      <td>120</td>\n",
       "      <td>1</td>\n",
       "      <td>0</td>\n",
       "      <td>0</td>\n",
       "    </tr>\n",
       "  </tbody>\n",
       "</table>\n",
       "</div>"
      ],
      "text/plain": [
       "   age  chol  thalachh  trtbps  restecg  fbs  exng\n",
       "0   58   197       162     120        1    0     0"
      ]
     },
     "execution_count": 15,
     "metadata": {},
     "output_type": "execute_result"
    }
   ],
   "source": [
    "# print mean dataset\n",
    "df_means.head()"
   ]
  },
  {
   "cell_type": "code",
   "execution_count": 16,
   "id": "f4d639a8-705f-4ca8-a63f-782553d8060f",
   "metadata": {},
   "outputs": [
    {
     "data": {
      "text/html": [
       "<div>\n",
       "<style scoped>\n",
       "    .dataframe tbody tr th:only-of-type {\n",
       "        vertical-align: middle;\n",
       "    }\n",
       "\n",
       "    .dataframe tbody tr th {\n",
       "        vertical-align: top;\n",
       "    }\n",
       "\n",
       "    .dataframe thead th {\n",
       "        text-align: right;\n",
       "    }\n",
       "</style>\n",
       "<table border=\"1\" class=\"dataframe\">\n",
       "  <thead>\n",
       "    <tr style=\"text-align: right;\">\n",
       "      <th></th>\n",
       "      <th>age</th>\n",
       "      <th>chol</th>\n",
       "      <th>thalachh</th>\n",
       "      <th>trtbps</th>\n",
       "      <th>restecg</th>\n",
       "    </tr>\n",
       "  </thead>\n",
       "  <tbody>\n",
       "    <tr>\n",
       "      <th>0</th>\n",
       "      <td>55.0</td>\n",
       "      <td>240.0</td>\n",
       "      <td>153.0</td>\n",
       "      <td>130.0</td>\n",
       "      <td>1.0</td>\n",
       "    </tr>\n",
       "  </tbody>\n",
       "</table>\n",
       "</div>"
      ],
      "text/plain": [
       "    age   chol  thalachh  trtbps  restecg\n",
       "0  55.0  240.0     153.0   130.0      1.0"
      ]
     },
     "execution_count": 16,
     "metadata": {},
     "output_type": "execute_result"
    }
   ],
   "source": [
    "# print median dataset\n",
    "df_medians.head()"
   ]
  },
  {
   "cell_type": "code",
   "execution_count": 17,
   "id": "89cb67da-13ce-483a-8802-2577801d9f80",
   "metadata": {},
   "outputs": [
    {
     "data": {
      "text/html": [
       "<div>\n",
       "<style scoped>\n",
       "    .dataframe tbody tr th:only-of-type {\n",
       "        vertical-align: middle;\n",
       "    }\n",
       "\n",
       "    .dataframe tbody tr th {\n",
       "        vertical-align: top;\n",
       "    }\n",
       "\n",
       "    .dataframe thead th {\n",
       "        text-align: right;\n",
       "    }\n",
       "</style>\n",
       "<table border=\"1\" class=\"dataframe\">\n",
       "  <thead>\n",
       "    <tr style=\"text-align: right;\">\n",
       "      <th></th>\n",
       "      <th>age</th>\n",
       "      <th>chol</th>\n",
       "      <th>thalachh</th>\n",
       "      <th>trtbps</th>\n",
       "      <th>restecg</th>\n",
       "      <th>fbs</th>\n",
       "      <th>exng</th>\n",
       "    </tr>\n",
       "  </thead>\n",
       "  <tbody>\n",
       "    <tr>\n",
       "      <th>0</th>\n",
       "      <td>58</td>\n",
       "      <td>197</td>\n",
       "      <td>162</td>\n",
       "      <td>120</td>\n",
       "      <td>1</td>\n",
       "      <td>0</td>\n",
       "      <td>0</td>\n",
       "    </tr>\n",
       "  </tbody>\n",
       "</table>\n",
       "</div>"
      ],
      "text/plain": [
       "   age  chol  thalachh  trtbps  restecg  fbs  exng\n",
       "0   58   197       162     120        1    0     0"
      ]
     },
     "execution_count": 17,
     "metadata": {},
     "output_type": "execute_result"
    }
   ],
   "source": [
    "# print modes dataset\n",
    "df_modes.head()"
   ]
  },
  {
   "cell_type": "code",
   "execution_count": 45,
   "id": "bed9b8e9-57a8-40a4-b265-a3780d98694b",
   "metadata": {},
   "outputs": [],
   "source": [
    "#creating a dataframe to compare age and chol\n",
    "group1 = pd.DataFrame({\n",
    "    'age' : data_gen['age'],\n",
    "    'chol' : data_gen['chol']\n",
    "})\n",
    "\n",
    "# grouping the 'age'\n",
    "values1 = group1.groupby('age')['chol'].mean()"
   ]
  },
  {
   "cell_type": "code",
   "execution_count": 54,
   "id": "dc24ada1-8cf9-42a8-8ddc-a09893a12e0a",
   "metadata": {},
   "outputs": [
    {
     "data": {
      "image/png": "[encoded data removed]",
      "text/plain": [
       "<Figure size 640x480 with 1 Axes>"
      ]
     },
     "metadata": {},
     "output_type": "display_data"
    }
   ],
   "source": [
    "# graph 1 for age x cholesterol\n",
    "plt.bar(values1.index, values1.values, color = 'lightblue')\n",
    "plt.xlabel('Age')\n",
    "plt.ylabel('Cholesterol')\n",
    "plt.title('Mean Cholesterol by Age')\n",
    "plt.show()"
   ]
  },
  {
   "cell_type": "markdown",
   "id": "97f35793-faec-4ada-820c-24244b5ecaa3",
   "metadata": {},
   "source": [
    "There aren't any person on this dataframe with 30-33, 72, 73 or 77 years old\n",
    "\n",
    "Looking at the graph we can note slight increase at the cholesterol values as older as the person gets."
   ]
  },
  {
   "cell_type": "code",
   "execution_count": 64,
   "id": "b304d84a-44b7-4c88-8615-0597eb8b887d",
   "metadata": {},
   "outputs": [
    {
     "data": {
      "image/png": "[encoded data removed]",
      "text/plain": [
       "<Figure size 640x480 with 1 Axes>"
      ]
     },
     "metadata": {},
     "output_type": "display_data"
    }
   ],
   "source": [
    "#creating a dataframe to compare age and bps\n",
    "group2 = pd.DataFrame({\n",
    "    'age' : data_gen['age'],\n",
    "    'trtbps' : data_gen['trtbps']\n",
    "})\n",
    "\n",
    "# grouping the 'age'\n",
    "values2 = group2.groupby('age')['trtbps'].mean()\n",
    "\n",
    "# graphing\n",
    "# graph 1 for age x bps\n",
    "plt.bar(values2.index, values2.values, color = 'lightblue')\n",
    "plt.xlabel('Age')\n",
    "plt.ylabel('BPS')\n",
    "plt.title('Blood Pressure by Age')\n",
    "plt.show()"
   ]
  },
  {
   "cell_type": "markdown",
   "id": "a3ba97a5-0c94-44c2-9bed-4025b75569da",
   "metadata": {},
   "source": [
    "From the graph above we can see that the average blood pressure increases by the age, this is due to muscle atrophy and other complications, making the heart work more than when the person is youg"
   ]
  },
  {
   "cell_type": "code",
   "execution_count": 63,
   "id": "3a8835d0-736e-4d62-8939-39ab062c463a",
   "metadata": {},
   "outputs": [
    {
     "data": {
      "image/png": "[encoded data removed]",
      "text/plain": [
       "<Figure size 640x480 with 1 Axes>"
      ]
     },
     "metadata": {},
     "output_type": "display_data"
    }
   ],
   "source": [
    "#creating a dataframe to compare age and thalachh\n",
    "group3 = pd.DataFrame({\n",
    "    'age' : data_gen['age'],\n",
    "    'thalachh' : data_gen['thalachh']\n",
    "})\n",
    "\n",
    "# grouping the 'age'\n",
    "values3 = group3.groupby('age')['thalachh'].mean()\n",
    "\n",
    "# graphing\n",
    "# graph 1 for age x thalachh\n",
    "plt.bar(values3.index, values3.values, color = 'lightblue')\n",
    "plt.xlabel('Age')\n",
    "plt.ylabel('Maximun Heart Rate')\n",
    "plt.title('Maximun Heart Rate by Age')\n",
    "plt.show()"
   ]
  },
  {
   "cell_type": "markdown",
   "id": "506bdd46-950c-481c-9263-aa9eec41582f",
   "metadata": {},
   "source": [
    "From this graph we can see the heart rate decreasin as the person ages. But, it is clear that this data do not have information of the heart itself of those people, or they probably dont have any muscle problems within the heart, as the more \"muscular\" the heart becomes, the more it has to work to increase the blood flow, this meaning: it increases the heart rate."
   ]
  }
 ],
 "metadata": {
  "kernelspec": {
   "display_name": "Python 3 (ipykernel)",
   "language": "python",
   "name": "python3"
  },
  "language_info": {
   "codemirror_mode": {
    "name": "ipython",
    "version": 3
   },
   "file_extension": ".py",
   "mimetype": "text/x-python",
   "name": "python",
   "nbconvert_exporter": "python",
   "pygments_lexer": "ipython3",
   "version": "3.10.9"
  }
 },
 "nbformat": 4,
 "nbformat_minor": 5
}
